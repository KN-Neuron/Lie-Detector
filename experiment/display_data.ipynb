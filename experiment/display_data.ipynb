{
 "cells": [
  {
   "cell_type": "markdown",
   "metadata": {},
   "source": [
    "# Przykładowe wypełnienie pliku user_data.yaml\n",
    "\n",
    "* id: abc123\n",
    "* name: John (tylko pełne imię bez zdrobnień)\n",
    "* surname: Doe\n",
    "* birth_date: 1 stycznia (zawsze data w formacie dzień (liczba) miesiąc (słownie np. stycznia, lutego, marca, kwietnia, maja, czerwca, lipca, sierpnia, września, października, listopada, grudnia))\n",
    "* hometown: Warszawa (tylko nazwa miasta)\n",
    "* gender: m (lub k) (mężczyzna lub kobieta)"
   ]
  },
  {
   "cell_type": "code",
   "execution_count": 8,
   "metadata": {},
   "outputs": [],
   "source": [
    "from src.personal_data import identity_generator"
   ]
  },
  {
   "cell_type": "code",
   "execution_count": 9,
   "metadata": {},
   "outputs": [],
   "source": [
    "id_gen = identity_generator.IdentityGenerator()"
   ]
  },
  {
   "cell_type": "code",
   "execution_count": 10,
   "metadata": {},
   "outputs": [],
   "source": [
    "from prettytable import PrettyTable\n",
    "\n",
    "\n",
    "def pretty_print_identity(identity, title, user_id=None):\n",
    "    table = PrettyTable()\n",
    "    table.field_names = [\"Field\", \"Value\"]\n",
    "\n",
    "    if user_id:\n",
    "        table.add_row([\"User ID\", user_id])\n",
    "\n",
    "    for field, value in identity.items():\n",
    "        table.add_row([field.name, value])\n",
    "    \n",
    "    print(f\"\\n{title}\")\n",
    "    print(table)\n"
   ]
  },
  {
   "cell_type": "code",
   "execution_count": 11,
   "metadata": {},
   "outputs": [],
   "source": [
    "real_identity = id_gen.get_real()\n",
    "fake_identity = id_gen.get_fake()\n",
    "celebrity_identity = id_gen.get_celebrity()\n",
    "rando_identity = id_gen.get_rando()\n",
    "user_id = id_gen.get_id()"
   ]
  },
  {
   "cell_type": "code",
   "execution_count": 12,
   "metadata": {},
   "outputs": [
    {
     "name": "stdout",
     "output_type": "stream",
     "text": [
      "\n",
      "Real Identity\n",
      "+------------+----------------+\n",
      "|   Field    |     Value      |\n",
      "+------------+----------------+\n",
      "|  User ID   |    SDF673HF    |\n",
      "|    NAME    | Patryk Kielich |\n",
      "| BIRTH_DATE |   29 lutego    |\n",
      "|  HOMETOWN  |    Wrocław     |\n",
      "+------------+----------------+\n"
     ]
    }
   ],
   "source": [
    "pretty_print_identity(real_identity, \"Real Identity\", user_id)"
   ]
  },
  {
   "cell_type": "code",
   "execution_count": 13,
   "metadata": {},
   "outputs": [
    {
     "name": "stdout",
     "output_type": "stream",
     "text": [
      "\n",
      "Rando Identity\n",
      "+------------+----------------+\n",
      "|   Field    |     Value      |\n",
      "+------------+----------------+\n",
      "|    NAME    | Kacper Kowalik |\n",
      "|  HOMETOWN  |      Łódź      |\n",
      "| BIRTH_DATE |   30 czerwca   |\n",
      "+------------+----------------+\n"
     ]
    }
   ],
   "source": [
    "pretty_print_identity(rando_identity, \"Rando Identity\")"
   ]
  },
  {
   "cell_type": "code",
   "execution_count": 14,
   "metadata": {},
   "outputs": [
    {
     "name": "stdout",
     "output_type": "stream",
     "text": [
      "\n",
      "Celebrity Identity\n",
      "+------------+-----------------+\n",
      "|   Field    |      Value      |\n",
      "+------------+-----------------+\n",
      "|    NAME    | Adam Mickiewicz |\n",
      "| BIRTH_DATE |    24 grudnia   |\n",
      "|  HOMETOWN  |      Zaosie     |\n",
      "+------------+-----------------+\n"
     ]
    }
   ],
   "source": [
    "pretty_print_identity(celebrity_identity, \"Celebrity Identity\")"
   ]
  },
  {
   "cell_type": "code",
   "execution_count": null,
   "metadata": {},
   "outputs": [],
   "source": []
  }
 ],
 "metadata": {
  "kernelspec": {
   "display_name": "mne",
   "language": "python",
   "name": "python3"
  },
  "language_info": {
   "codemirror_mode": {
    "name": "ipython",
    "version": 3
   },
   "file_extension": ".py",
   "mimetype": "text/x-python",
   "name": "python",
   "nbconvert_exporter": "python",
   "pygments_lexer": "ipython3",
   "version": "3.12.2"
  }
 },
 "nbformat": 4,
 "nbformat_minor": 2
}
