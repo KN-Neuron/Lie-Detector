{
 "cells": [
  {
   "cell_type": "code",
   "execution_count": 12,
   "metadata": {},
   "outputs": [],
   "source": [
    "import json\n",
    "from pathlib import Path"
   ]
  },
  {
   "cell_type": "code",
   "execution_count": 13,
   "metadata": {},
   "outputs": [],
   "source": [
    "OLD_LOGS_PATH = Path(\"logs.old\") / \"json\"\n",
    "NEW_LOGS_PATH = Path(\"logs\") / \"json\""
   ]
  },
  {
   "cell_type": "code",
   "execution_count": 14,
   "metadata": {},
   "outputs": [],
   "source": [
    "def collect_all_tested_params(model):\n",
    "    params = {}\n",
    "\n",
    "    old_logs_path = OLD_LOGS_PATH / model\n",
    "    if old_logs_path.exists():\n",
    "        for log_path in (OLD_LOGS_PATH / model).iterdir():\n",
    "            with open(log_path, encoding=\"utf-8\") as f:\n",
    "                log = json.load(f)\n",
    "\n",
    "            for param_name, value in log[\"params\"].items():\n",
    "                param = params.setdefault(param_name, set())\n",
    "                param.add(str(value))\n",
    "\n",
    "    for log_path in (NEW_LOGS_PATH / model).iterdir():\n",
    "        with open(log_path, encoding=\"utf-8\") as f:\n",
    "            log = json.load(f)\n",
    "\n",
    "        for param_info in log[\"params\"]:\n",
    "            param = params.setdefault(param_info[\"name\"], set())\n",
    "            param.add(str(param_info[\"value\"]))\n",
    "\n",
    "    return params"
   ]
  },
  {
   "cell_type": "code",
   "execution_count": 15,
   "metadata": {},
   "outputs": [
    {
     "data": {
      "text/plain": [
       "'hid_channels'"
      ]
     },
     "metadata": {},
     "output_type": "display_data"
    },
    {
     "data": {
      "text/plain": [
       "['128', '16', '2', '256', '32', '4', '512', '64', '8']"
      ]
     },
     "metadata": {},
     "output_type": "display_data"
    },
    {
     "data": {
      "text/plain": [
       "'lr'"
      ]
     },
     "metadata": {},
     "output_type": "display_data"
    },
    {
     "data": {
      "text/plain": [
       "['0.0001',\n",
       " '0.001',\n",
       " '0.005',\n",
       " '0.01',\n",
       " '0.1',\n",
       " '1',\n",
       " '10',\n",
       " '100',\n",
       " '1e-05',\n",
       " '1e-06',\n",
       " '1e-07']"
      ]
     },
     "metadata": {},
     "output_type": "display_data"
    },
    {
     "data": {
      "text/plain": [
       "'max_epochs'"
      ]
     },
     "metadata": {},
     "output_type": "display_data"
    },
    {
     "data": {
      "text/plain": [
       "['20', '200', '250', '500']"
      ]
     },
     "metadata": {},
     "output_type": "display_data"
    },
    {
     "data": {
      "text/plain": [
       "'num_layers'"
      ]
     },
     "metadata": {},
     "output_type": "display_data"
    },
    {
     "data": {
      "text/plain": [
       "['1',\n",
       " '10',\n",
       " '15',\n",
       " '2',\n",
       " '20',\n",
       " '25',\n",
       " '3',\n",
       " '30',\n",
       " '35',\n",
       " '4',\n",
       " '40',\n",
       " '45',\n",
       " '5',\n",
       " '50',\n",
       " '6',\n",
       " '7',\n",
       " '8',\n",
       " '9']"
      ]
     },
     "metadata": {},
     "output_type": "display_data"
    },
    {
     "data": {
      "text/plain": [
       "'tmax'"
      ]
     },
     "metadata": {},
     "output_type": "display_data"
    },
    {
     "data": {
      "text/plain": [
       "['1', '1.997']"
      ]
     },
     "metadata": {},
     "output_type": "display_data"
    },
    {
     "data": {
      "text/plain": [
       "'band_to_frequency_range'"
      ]
     },
     "metadata": {},
     "output_type": "display_data"
    },
    {
     "data": {
      "text/plain": [
       "[\"{'alpha': [8, 14], 'beta': [14, 31], 'delta': [1, 4], 'gamma': [31, 49], 'theta': [4, 8]}\"]"
      ]
     },
     "metadata": {},
     "output_type": "display_data"
    },
    {
     "data": {
      "text/plain": [
       "'batch_size'"
      ]
     },
     "metadata": {},
     "output_type": "display_data"
    },
    {
     "data": {
      "text/plain": [
       "['16']"
      ]
     },
     "metadata": {},
     "output_type": "display_data"
    }
   ],
   "source": [
    "dgcnn_params = collect_all_tested_params(\"DGCNN\")\n",
    "for param_name, values in dgcnn_params.items():\n",
    "    display(param_name)\n",
    "    display(sorted(values))"
   ]
  },
  {
   "cell_type": "code",
   "execution_count": 16,
   "metadata": {},
   "outputs": [
    {
     "data": {
      "text/plain": [
       "'tmax'"
      ]
     },
     "metadata": {},
     "output_type": "display_data"
    },
    {
     "data": {
      "text/plain": [
       "['1', '1.997']"
      ]
     },
     "metadata": {},
     "output_type": "display_data"
    },
    {
     "data": {
      "text/plain": [
       "'band_to_frequency_range'"
      ]
     },
     "metadata": {},
     "output_type": "display_data"
    },
    {
     "data": {
      "text/plain": [
       "[\"{'alpha': [8, 14], 'beta': [14, 31], 'delta': [1, 4], 'gamma': [31, 49], 'theta': [4, 8]}\"]"
      ]
     },
     "metadata": {},
     "output_type": "display_data"
    },
    {
     "data": {
      "text/plain": [
       "'batch_size'"
      ]
     },
     "metadata": {},
     "output_type": "display_data"
    },
    {
     "data": {
      "text/plain": [
       "['128', '16', '32', '64']"
      ]
     },
     "metadata": {},
     "output_type": "display_data"
    },
    {
     "data": {
      "text/plain": [
       "'hid_channels'"
      ]
     },
     "metadata": {},
     "output_type": "display_data"
    },
    {
     "data": {
      "text/plain": [
       "['128', '16', '256', '32', '64']"
      ]
     },
     "metadata": {},
     "output_type": "display_data"
    },
    {
     "data": {
      "text/plain": [
       "'lr'"
      ]
     },
     "metadata": {},
     "output_type": "display_data"
    },
    {
     "data": {
      "text/plain": [
       "['0.0001', '0.001', '0.01', '0.1', '1', '10', '100']"
      ]
     },
     "metadata": {},
     "output_type": "display_data"
    },
    {
     "data": {
      "text/plain": [
       "'max_epochs'"
      ]
     },
     "metadata": {},
     "output_type": "display_data"
    },
    {
     "data": {
      "text/plain": [
       "['500']"
      ]
     },
     "metadata": {},
     "output_type": "display_data"
    }
   ],
   "source": [
    "lstm_params = collect_all_tested_params(\"LSTM\")\n",
    "for param_name, values in lstm_params.items():\n",
    "    display(param_name)\n",
    "    display(sorted(values))"
   ]
  },
  {
   "cell_type": "code",
   "execution_count": 17,
   "metadata": {},
   "outputs": [
    {
     "data": {
      "text/plain": [
       "'tmax'"
      ]
     },
     "metadata": {},
     "output_type": "display_data"
    },
    {
     "data": {
      "text/plain": [
       "['0.997', '1']"
      ]
     },
     "metadata": {},
     "output_type": "display_data"
    },
    {
     "data": {
      "text/plain": [
       "'freqs'"
      ]
     },
     "metadata": {},
     "output_type": "display_data"
    },
    {
     "data": {
      "text/plain": [
       "['[[1, 10], [10, 20], [20, 30], [30, 40], [40, 50], [50, 60], [60, 70], [70, 80], [80, 90], [90, 100]]',\n",
       " '[[1, 10], [10, 20], [20, 30], [30, 40], [40, 50]]',\n",
       " '[[1, 4], [4, 8], [8, 14], [14, 31], [31, 49]]',\n",
       " '[[1, 5], [5, 10], [10, 15], [15, 20], [20, 25], [25, 30], [30, 35], [35, 40], [40, 45], [45, 50]]']"
      ]
     },
     "metadata": {},
     "output_type": "display_data"
    },
    {
     "data": {
      "text/plain": [
       "'batch_size'"
      ]
     },
     "metadata": {},
     "output_type": "display_data"
    },
    {
     "data": {
      "text/plain": [
       "['128', '16', '32', '64']"
      ]
     },
     "metadata": {},
     "output_type": "display_data"
    },
    {
     "data": {
      "text/plain": [
       "'num_S'"
      ]
     },
     "metadata": {},
     "output_type": "display_data"
    },
    {
     "data": {
      "text/plain": [
       "['1024', '128', '16', '256', '32', '512', '64']"
      ]
     },
     "metadata": {},
     "output_type": "display_data"
    },
    {
     "data": {
      "text/plain": [
       "'lr'"
      ]
     },
     "metadata": {},
     "output_type": "display_data"
    },
    {
     "data": {
      "text/plain": [
       "['0.0001', '0.001', '0.01', '0.1', '1', '10', '100']"
      ]
     },
     "metadata": {},
     "output_type": "display_data"
    },
    {
     "data": {
      "text/plain": [
       "'max_epochs'"
      ]
     },
     "metadata": {},
     "output_type": "display_data"
    },
    {
     "data": {
      "text/plain": [
       "['500']"
      ]
     },
     "metadata": {},
     "output_type": "display_data"
    },
    {
     "data": {
      "text/plain": [
       "'stride_factor'"
      ]
     },
     "metadata": {},
     "output_type": "display_data"
    },
    {
     "data": {
      "text/plain": [
       "['10', '2', '25', '5']"
      ]
     },
     "metadata": {},
     "output_type": "display_data"
    }
   ],
   "source": [
    "fbcnet_params = collect_all_tested_params(\"FBCNet\")\n",
    "for param_name, values in fbcnet_params.items():\n",
    "    display(param_name)\n",
    "    display(sorted(values))"
   ]
  }
 ],
 "metadata": {
  "kernelspec": {
   "display_name": "lie-detector-ai",
   "language": "python",
   "name": "python3"
  },
  "language_info": {
   "codemirror_mode": {
    "name": "ipython",
    "version": 3
   },
   "file_extension": ".py",
   "mimetype": "text/x-python",
   "name": "python",
   "nbconvert_exporter": "python",
   "pygments_lexer": "ipython3",
   "version": "3.12.4"
  }
 },
 "nbformat": 4,
 "nbformat_minor": 2
}
