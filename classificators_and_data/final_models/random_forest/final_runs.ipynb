{
 "cells": [
  {
   "cell_type": "code",
   "execution_count": 2,
   "metadata": {},
   "outputs": [],
   "source": [
    "%load_ext autoreload\n",
    "%autoreload 2"
   ]
  },
  {
   "cell_type": "code",
   "execution_count": 3,
   "metadata": {},
   "outputs": [
    {
     "name": "stdout",
     "output_type": "stream",
     "text": [
      "Requirement already satisfied: tqdm in /Users/gsk/documents/projects/Lie-Detector/experiment/venv/lib/python3.13/site-packages (4.67.1)\n",
      "\n",
      "\u001b[1m[\u001b[0m\u001b[34;49mnotice\u001b[0m\u001b[1;39;49m]\u001b[0m\u001b[39;49m A new release of pip is available: \u001b[0m\u001b[31;49m24.2\u001b[0m\u001b[39;49m -> \u001b[0m\u001b[32;49m24.3.1\u001b[0m\n",
      "\u001b[1m[\u001b[0m\u001b[34;49mnotice\u001b[0m\u001b[1;39;49m]\u001b[0m\u001b[39;49m To update, run: \u001b[0m\u001b[32;49mpip install --upgrade pip\u001b[0m\n",
      "Requirement already satisfied: numpy in /Users/gsk/documents/projects/Lie-Detector/experiment/venv/lib/python3.13/site-packages (2.2.1)\n",
      "\n",
      "\u001b[1m[\u001b[0m\u001b[34;49mnotice\u001b[0m\u001b[1;39;49m]\u001b[0m\u001b[39;49m A new release of pip is available: \u001b[0m\u001b[31;49m24.2\u001b[0m\u001b[39;49m -> \u001b[0m\u001b[32;49m24.3.1\u001b[0m\n",
      "\u001b[1m[\u001b[0m\u001b[34;49mnotice\u001b[0m\u001b[1;39;49m]\u001b[0m\u001b[39;49m To update, run: \u001b[0m\u001b[32;49mpip install --upgrade pip\u001b[0m\n"
     ]
    }
   ],
   "source": [
    "!pip install tqdm\n",
    "!pip install numpy"
   ]
  },
  {
   "cell_type": "code",
   "execution_count": 4,
   "metadata": {},
   "outputs": [
    {
     "name": "stdout",
     "output_type": "stream",
     "text": [
      "Requirement already satisfied: mne in /Users/gsk/documents/projects/Lie-Detector/experiment/venv/lib/python3.13/site-packages (1.9.0)\n",
      "Requirement already satisfied: decorator in /Users/gsk/documents/projects/Lie-Detector/experiment/venv/lib/python3.13/site-packages (from mne) (5.1.1)\n",
      "Requirement already satisfied: jinja2 in /Users/gsk/documents/projects/Lie-Detector/experiment/venv/lib/python3.13/site-packages (from mne) (3.1.5)\n",
      "Requirement already satisfied: lazy-loader>=0.3 in /Users/gsk/documents/projects/Lie-Detector/experiment/venv/lib/python3.13/site-packages (from mne) (0.4)\n",
      "Requirement already satisfied: matplotlib>=3.6 in /Users/gsk/documents/projects/Lie-Detector/experiment/venv/lib/python3.13/site-packages (from mne) (3.10.0)\n",
      "Requirement already satisfied: numpy<3,>=1.23 in /Users/gsk/documents/projects/Lie-Detector/experiment/venv/lib/python3.13/site-packages (from mne) (2.2.1)\n",
      "Requirement already satisfied: packaging in /Users/gsk/documents/projects/Lie-Detector/experiment/venv/lib/python3.13/site-packages (from mne) (24.2)\n",
      "Requirement already satisfied: pooch>=1.5 in /Users/gsk/documents/projects/Lie-Detector/experiment/venv/lib/python3.13/site-packages (from mne) (1.8.2)\n",
      "Requirement already satisfied: scipy>=1.9 in /Users/gsk/documents/projects/Lie-Detector/experiment/venv/lib/python3.13/site-packages (from mne) (1.15.0)\n",
      "Requirement already satisfied: tqdm in /Users/gsk/documents/projects/Lie-Detector/experiment/venv/lib/python3.13/site-packages (from mne) (4.67.1)\n",
      "Requirement already satisfied: contourpy>=1.0.1 in /Users/gsk/documents/projects/Lie-Detector/experiment/venv/lib/python3.13/site-packages (from matplotlib>=3.6->mne) (1.3.1)\n",
      "Requirement already satisfied: cycler>=0.10 in /Users/gsk/documents/projects/Lie-Detector/experiment/venv/lib/python3.13/site-packages (from matplotlib>=3.6->mne) (0.12.1)\n",
      "Requirement already satisfied: fonttools>=4.22.0 in /Users/gsk/documents/projects/Lie-Detector/experiment/venv/lib/python3.13/site-packages (from matplotlib>=3.6->mne) (4.55.3)\n",
      "Requirement already satisfied: kiwisolver>=1.3.1 in /Users/gsk/documents/projects/Lie-Detector/experiment/venv/lib/python3.13/site-packages (from matplotlib>=3.6->mne) (1.4.8)\n",
      "Requirement already satisfied: pillow>=8 in /Users/gsk/documents/projects/Lie-Detector/experiment/venv/lib/python3.13/site-packages (from matplotlib>=3.6->mne) (11.1.0)\n",
      "Requirement already satisfied: pyparsing>=2.3.1 in /Users/gsk/documents/projects/Lie-Detector/experiment/venv/lib/python3.13/site-packages (from matplotlib>=3.6->mne) (3.2.1)\n",
      "Requirement already satisfied: python-dateutil>=2.7 in /Users/gsk/documents/projects/Lie-Detector/experiment/venv/lib/python3.13/site-packages (from matplotlib>=3.6->mne) (2.9.0.post0)\n",
      "Requirement already satisfied: platformdirs>=2.5.0 in /Users/gsk/documents/projects/Lie-Detector/experiment/venv/lib/python3.13/site-packages (from pooch>=1.5->mne) (4.3.6)\n",
      "Requirement already satisfied: requests>=2.19.0 in /Users/gsk/documents/projects/Lie-Detector/experiment/venv/lib/python3.13/site-packages (from pooch>=1.5->mne) (2.32.3)\n",
      "Requirement already satisfied: MarkupSafe>=2.0 in /Users/gsk/documents/projects/Lie-Detector/experiment/venv/lib/python3.13/site-packages (from jinja2->mne) (3.0.2)\n",
      "Requirement already satisfied: six>=1.5 in /Users/gsk/documents/projects/Lie-Detector/experiment/venv/lib/python3.13/site-packages (from python-dateutil>=2.7->matplotlib>=3.6->mne) (1.17.0)\n",
      "Requirement already satisfied: charset-normalizer<4,>=2 in /Users/gsk/documents/projects/Lie-Detector/experiment/venv/lib/python3.13/site-packages (from requests>=2.19.0->pooch>=1.5->mne) (3.4.0)\n",
      "Requirement already satisfied: idna<4,>=2.5 in /Users/gsk/documents/projects/Lie-Detector/experiment/venv/lib/python3.13/site-packages (from requests>=2.19.0->pooch>=1.5->mne) (3.10)\n",
      "Requirement already satisfied: urllib3<3,>=1.21.1 in /Users/gsk/documents/projects/Lie-Detector/experiment/venv/lib/python3.13/site-packages (from requests>=2.19.0->pooch>=1.5->mne) (2.2.3)\n",
      "Requirement already satisfied: certifi>=2017.4.17 in /Users/gsk/documents/projects/Lie-Detector/experiment/venv/lib/python3.13/site-packages (from requests>=2.19.0->pooch>=1.5->mne) (2024.12.14)\n",
      "\n",
      "\u001b[1m[\u001b[0m\u001b[34;49mnotice\u001b[0m\u001b[1;39;49m]\u001b[0m\u001b[39;49m A new release of pip is available: \u001b[0m\u001b[31;49m24.2\u001b[0m\u001b[39;49m -> \u001b[0m\u001b[32;49m24.3.1\u001b[0m\n",
      "\u001b[1m[\u001b[0m\u001b[34;49mnotice\u001b[0m\u001b[1;39;49m]\u001b[0m\u001b[39;49m To update, run: \u001b[0m\u001b[32;49mpip install --upgrade pip\u001b[0m\n"
     ]
    }
   ],
   "source": [
    "!pip install mne"
   ]
  },
  {
   "cell_type": "code",
   "execution_count": 5,
   "metadata": {},
   "outputs": [],
   "source": [
    "import os\n",
    "import sys\n",
    "\n",
    "project_root = os.path.abspath(os.path.join(os.getcwd(), '..', '..'))\n",
    "sys.path.append(project_root)\n"
   ]
  },
  {
   "cell_type": "code",
   "execution_count": 6,
   "metadata": {},
   "outputs": [
    {
     "name": "stdout",
     "output_type": "stream",
     "text": [
      "Requirement already satisfied: pandas in /Users/gsk/documents/projects/Lie-Detector/experiment/venv/lib/python3.13/site-packages (2.2.3)\n",
      "Requirement already satisfied: numpy>=1.26.0 in /Users/gsk/documents/projects/Lie-Detector/experiment/venv/lib/python3.13/site-packages (from pandas) (2.2.1)\n",
      "Requirement already satisfied: python-dateutil>=2.8.2 in /Users/gsk/documents/projects/Lie-Detector/experiment/venv/lib/python3.13/site-packages (from pandas) (2.9.0.post0)\n",
      "Requirement already satisfied: pytz>=2020.1 in /Users/gsk/documents/projects/Lie-Detector/experiment/venv/lib/python3.13/site-packages (from pandas) (2024.2)\n",
      "Requirement already satisfied: tzdata>=2022.7 in /Users/gsk/documents/projects/Lie-Detector/experiment/venv/lib/python3.13/site-packages (from pandas) (2024.2)\n",
      "Requirement already satisfied: six>=1.5 in /Users/gsk/documents/projects/Lie-Detector/experiment/venv/lib/python3.13/site-packages (from python-dateutil>=2.8.2->pandas) (1.17.0)\n",
      "\n",
      "\u001b[1m[\u001b[0m\u001b[34;49mnotice\u001b[0m\u001b[1;39;49m]\u001b[0m\u001b[39;49m A new release of pip is available: \u001b[0m\u001b[31;49m24.2\u001b[0m\u001b[39;49m -> \u001b[0m\u001b[32;49m24.3.1\u001b[0m\n",
      "\u001b[1m[\u001b[0m\u001b[34;49mnotice\u001b[0m\u001b[1;39;49m]\u001b[0m\u001b[39;49m To update, run: \u001b[0m\u001b[32;49mpip install --upgrade pip\u001b[0m\n"
     ]
    }
   ],
   "source": [
    "!pip install pandas"
   ]
  },
  {
   "cell_type": "code",
   "execution_count": 7,
   "metadata": {},
   "outputs": [
    {
     "name": "stdout",
     "output_type": "stream",
     "text": [
      "Collecting scikit-learn\n",
      "  Using cached scikit_learn-1.6.0-cp313-cp313-macosx_12_0_arm64.whl.metadata (31 kB)\n",
      "Requirement already satisfied: numpy>=1.19.5 in /Users/gsk/documents/projects/Lie-Detector/experiment/venv/lib/python3.13/site-packages (from scikit-learn) (2.2.1)\n",
      "Requirement already satisfied: scipy>=1.6.0 in /Users/gsk/documents/projects/Lie-Detector/experiment/venv/lib/python3.13/site-packages (from scikit-learn) (1.15.0)\n",
      "Collecting joblib>=1.2.0 (from scikit-learn)\n",
      "  Using cached joblib-1.4.2-py3-none-any.whl.metadata (5.4 kB)\n",
      "Collecting threadpoolctl>=3.1.0 (from scikit-learn)\n",
      "  Using cached threadpoolctl-3.5.0-py3-none-any.whl.metadata (13 kB)\n",
      "Using cached scikit_learn-1.6.0-cp313-cp313-macosx_12_0_arm64.whl (11.1 MB)\n",
      "Using cached joblib-1.4.2-py3-none-any.whl (301 kB)\n",
      "Using cached threadpoolctl-3.5.0-py3-none-any.whl (18 kB)\n",
      "Installing collected packages: threadpoolctl, joblib, scikit-learn\n",
      "Successfully installed joblib-1.4.2 scikit-learn-1.6.0 threadpoolctl-3.5.0\n",
      "\n",
      "\u001b[1m[\u001b[0m\u001b[34;49mnotice\u001b[0m\u001b[1;39;49m]\u001b[0m\u001b[39;49m A new release of pip is available: \u001b[0m\u001b[31;49m24.2\u001b[0m\u001b[39;49m -> \u001b[0m\u001b[32;49m24.3.1\u001b[0m\n",
      "\u001b[1m[\u001b[0m\u001b[34;49mnotice\u001b[0m\u001b[1;39;49m]\u001b[0m\u001b[39;49m To update, run: \u001b[0m\u001b[32;49mpip install --upgrade pip\u001b[0m\n"
     ]
    }
   ],
   "source": [
    "!pip install scikit-learn"
   ]
  },
  {
   "cell_type": "code",
   "execution_count": 8,
   "metadata": {},
   "outputs": [
    {
     "ename": "ModuleNotFoundError",
     "evalue": "No module named 'final_models.gs'",
     "output_type": "error",
     "traceback": [
      "\u001b[0;31m---------------------------------------------------------------------------\u001b[0m",
      "\u001b[0;31mModuleNotFoundError\u001b[0m                       Traceback (most recent call last)",
      "Cell \u001b[0;32mIn[8], line 2\u001b[0m\n\u001b[1;32m      1\u001b[0m \u001b[38;5;28;01mfrom\u001b[39;00m \u001b[38;5;21;01mfinal_models\u001b[39;00m\u001b[38;5;21;01m.\u001b[39;00m\u001b[38;5;21;01mExperimentManager\u001b[39;00m \u001b[38;5;28;01mimport\u001b[39;00m ExperimentManager, SplitStrategy\n\u001b[0;32m----> 2\u001b[0m \u001b[38;5;28;01mfrom\u001b[39;00m \u001b[38;5;21;01mfinal_models\u001b[39;00m\u001b[38;5;21;01m.\u001b[39;00m\u001b[38;5;21;01mgs\u001b[39;00m\u001b[38;5;21;01m.\u001b[39;00m\u001b[38;5;21;01mRandomForestModel\u001b[39;00m \u001b[38;5;28;01mimport\u001b[39;00m RandomForestModel\n\u001b[1;32m      3\u001b[0m \u001b[38;5;28;01mimport\u001b[39;00m \u001b[38;5;21;01mlogging\u001b[39;00m\n",
      "\u001b[0;31mModuleNotFoundError\u001b[0m: No module named 'final_models.gs'"
     ]
    }
   ],
   "source": [
    "from final_models.ExperimentManager import ExperimentManager, SplitStrategy\n",
    "from final_models.gs.RandomForestModel import RandomForestModel\n",
    "import logging"
   ]
  },
  {
   "cell_type": "code",
   "execution_count": 4,
   "metadata": {},
   "outputs": [],
   "source": [
    "models = []\n",
    "preprocess_params = {\n",
    "        \"lfreq\": 0.3,\n",
    "        \"hfreq\": 70,\n",
    "        \"notch_filter\": [60],\n",
    "        \"baseline\": (None, None),\n",
    "        \"tmin\": 0,\n",
    "        \"tmax\": 0.6,\n",
    "    }\n",
    "model = RandomForestModel(preprocess_params=preprocess_params)\n",
    "models.append(model)"
   ]
  },
  {
   "cell_type": "code",
   "execution_count": null,
   "metadata": {},
   "outputs": [],
   "source": [
    "split_strategies = [\n",
    "    SplitStrategy.RANDOM42,\n",
    "    SplitStrategy.RANDOM2137,\n",
    "    SplitStrategy.SMALLTEST42,\n",
    "    SplitStrategy.SUBJECTBASED42\n",
    "]\n",
    "\n",
    "em = ExperimentManager(models, split_strategies)\n",
    "em.run()\n"
   ]
  }
 ],
 "metadata": {
  "kernelspec": {
   "display_name": "Python 3",
   "language": "python",
   "name": "python3"
  },
  "language_info": {
   "codemirror_mode": {
    "name": "ipython",
    "version": 3
   },
   "file_extension": ".py",
   "mimetype": "text/x-python",
   "name": "python",
   "nbconvert_exporter": "python",
   "pygments_lexer": "ipython3",
   "version": "3.13.0"
  }
 },
 "nbformat": 4,
 "nbformat_minor": 2
}
