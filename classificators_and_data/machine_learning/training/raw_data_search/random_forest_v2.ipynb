{
  "cells": [
    {
      "cell_type": "code",
      "execution_count": 1,
      "metadata": {},
      "outputs": [],
      "source": [
        "%load_ext autoreload\n",
        "%autoreload 2"
      ]
    },
    {
      "cell_type": "code",
      "execution_count": 1,
      "metadata": {},
      "outputs": [
        {
          "name": "stdout",
          "output_type": "stream",
          "text": [
            "/Users/gsk/documents/projects/Lie-Detector/classificators_and_data\n"
          ]
        }
      ],
      "source": [
        "import sys\n",
        "import os\n",
        "\n",
        "project_root = os.path.abspath(os.path.join(os.getcwd(), '..', '..'))\n",
        "sys.path.append(project_root)\n",
        "\n",
        "print(project_root)\n",
        "\n",
        "import machine_learning.ml_lib as ML\n",
        "from data_extractor.data_extractor import load_df, extract_X_y_from_df \n",
        "from sklearn.ensemble import RandomForestClassifier\n",
        "from sklearn.ensemble import RandomForestClassifier"
      ]
    },
    {
      "cell_type": "code",
      "execution_count": 2,
      "metadata": {},
      "outputs": [],
      "source": [
        "# INFO This is not used in my main, feature extraction approach\n",
        "# This function ensures that only one hyperparameter is varied in each parameter grid, keeping the rest fixed.\n",
        "# This is useful for understanding the effect of each hyperparameter on the model's performance.\n",
        "def generate_one_at_a_time_param_grids(model, param_options, fixed_params):\n",
        "    \"\"\"\n",
        "    Generate a list of parameter grids where each grid varies one hyperparameter at a time.\n",
        "    \n",
        "    :param model: The machine learning model (estimator).\n",
        "    :param param_options: A dictionary where keys are parameter names and values are lists of values to try.\n",
        "    :param fixed_params: A dictionary of parameters to keep fixed.\n",
        "    :return: List of (model, param_grid) tuples.\n",
        "    \"\"\"\n",
        "    from copy import deepcopy\n",
        "\n",
        "    param_grids = []\n",
        "    for param, values in param_options.items():\n",
        "\n",
        "        param_grid = deepcopy(fixed_params)\n",
        "\n",
        "        param_grid[param] = values\n",
        "\n",
        "        for other_param in param_options:\n",
        "            if other_param != param:\n",
        "                param_grid[other_param] = [fixed_params[other_param]]\n",
        "        param_grids.append((model, param_grid))\n",
        "    return param_grids\n",
        "param_options_rf = {\n",
        "    'model__n_estimators': [50, 100, 200],\n",
        "    'model__max_depth': [None, 10, 20, 30],\n",
        "    'model__min_samples_split': [2, 5, 10]\n",
        "}\n",
        "\n",
        "fixed_params_rf = {\n",
        "    'model__n_estimators': 100,\n",
        "    'model__max_depth': 20,\n",
        "    'model__min_samples_split': 5\n",
        "}\n",
        "rf_param_grids = generate_one_at_a_time_param_grids(\n",
        "    model=RandomForestClassifier(random_state=42),\n",
        "    param_options=param_options_rf,\n",
        "    fixed_params=fixed_params_rf\n",
        ")\n",
        "models_param_grids = rf_param_grids"
      ]
    },
    {
      "cell_type": "code",
      "execution_count": 4,
      "metadata": {},
      "outputs": [],
      "source": [
        "rf_model = RandomForestClassifier(random_state=42)\n",
        "\n",
        "fixed_params = {\n",
        "    'model__n_estimators': 100,\n",
        "    'model__max_depth': 20,\n",
        "    'model__min_samples_split': 5\n",
        "}\n",
        "\n",
        "param_grids = [\n",
        "    {\n",
        "        'model__n_estimators': [50, 100, 200], \n",
        "        'model__max_depth': [fixed_params['model__max_depth']],\n",
        "        'model__min_samples_split': [fixed_params['model__min_samples_split']]\n",
        "    },\n",
        "    {\n",
        "        'model__n_estimators': [fixed_params['model__n_estimators']],\n",
        "        'model__max_depth': [None, 10, 20, 30], \n",
        "        'model__min_samples_split': [fixed_params['model__min_samples_split']]\n",
        "    },\n",
        "    {\n",
        "        'model__n_estimators': [fixed_params['model__n_estimators']],\n",
        "        'model__max_depth': [fixed_params['model__max_depth']],\n",
        "        'model__min_samples_split': [2, 5, 10] \n",
        "    }\n",
        "]\n",
        "\n",
        "models_param_grids = [\n",
        "    (rf_model, param_grid) for param_grid in param_grids\n",
        "]"
      ]
    },
    {
      "cell_type": "code",
      "execution_count": null,
      "metadata": {},
      "outputs": [],
      "source": [
        "df = load_df(\"../../data/\") "
      ]
    },
    {
      "cell_type": "code",
      "execution_count": null,
      "metadata": {},
      "outputs": [],
      "source": [
        "df = df.query(\"desired_answer == answer and data_type in ['REAL', 'FAKE']\")\n",
        "df['label'] = df.apply(lambda x: 1 if x.block_no in [1,3] else 0, axis = 1)\n",
        "df.head()"
      ]
    },
    {
      "cell_type": "code",
      "execution_count": null,
      "metadata": {},
      "outputs": [],
      "source": [
        "X,y = extract_X_y_from_df(df)"
      ]
    },
    {
      "cell_type": "code",
      "execution_count": null,
      "metadata": {},
      "outputs": [],
      "source": [
        "X.shape, y.shape"
      ]
    },
    {
      "cell_type": "code",
      "execution_count": null,
      "metadata": {},
      "outputs": [],
      "source": [
        "param_options_rf = {\n",
        "    'model__n_estimators': [50, 100, 200],\n",
        "    'model__max_depth': [None, 10, 20, 30],\n",
        "    'model__min_samples_split': [2, 5, 10]\n",
        "}\n",
        "\n",
        "fixed_params_rf = {\n",
        "    'model__n_estimators': 100,\n",
        "    'model__max_depth': 20,\n",
        "    'model__min_samples_split': 5\n",
        "}\n",
        "\n",
        "\n",
        "rf_param_grids = generate_one_at_a_time_param_grids(\n",
        "    model=RandomForestClassifier(random_state=42),\n",
        "    param_options=param_options_rf,\n",
        "    fixed_params=fixed_params_rf\n",
        ")\n",
        "\n",
        "\n",
        "models_param_grids = rf_param_grids\n",
        "\n",
        "\n",
        "best_model = ML.model_selection_grid_search_v2(\n",
        "    models_param_grids=models_param_grids,\n",
        "    X=X,\n",
        "    y=y,\n",
        "    test_size=0.2,\n",
        "    cv=5,\n",
        "    scoring='accuracy',\n",
        "    result_folder='../results/random_forest',\n",
        ")\n",
        "\n",
        "print(\"Best Model Parameters:\", best_model.get_params())"
      ]
    },
    {
      "cell_type": "code",
      "execution_count": null,
      "metadata": {},
      "outputs": [],
      "source": [
        "param_options_rf = {\n",
        "    'model__n_estimators': [50, 100, 200],\n",
        "    'model__max_depth': [None, 10, 20, 30],\n",
        "    'model__min_samples_split': [2, 5, 10]\n",
        "}\n",
        "\n",
        "fixed_params_rf = {\n",
        "    'model__n_estimators': 100,\n",
        "    'model__max_depth': 20,\n",
        "    'model__min_samples_split': 5\n",
        "}\n",
        "\n",
        "\n",
        "rf_param_grids = generate_one_at_a_time_param_grids(\n",
        "    model=RandomForestClassifier(random_state=42),\n",
        "    param_options=param_options_rf,\n",
        "    fixed_params=fixed_params_rf\n",
        ")\n",
        "\n",
        "\n",
        "models_param_grids = rf_param_grids\n",
        "\n",
        "\n",
        "best_model = ML.model_selection_grid_search_v2(\n",
        "    models_param_grids=models_param_grids,\n",
        "    X=X,\n",
        "    y=y,\n",
        "    test_size=0.2,\n",
        "    cv=5,\n",
        "    scoring='accuracy',\n",
        "    result_folder='../results/random_forest_2',\n",
        ")\n",
        "\n",
        "print(\"Best Model Parameters:\", best_model.get_params())"
      ]
    },
    {
      "cell_type": "code",
      "execution_count": null,
      "metadata": {},
      "outputs": [],
      "source": []
    },
    {
      "cell_type": "code",
      "execution_count": null,
      "metadata": {},
      "outputs": [],
      "source": []
    }
  ],
  "metadata": {
    "kernelspec": {
      "display_name": "Python 3",
      "language": "python",
      "name": "python3"
    },
    "language_info": {
      "codemirror_mode": {
        "name": "ipython",
        "version": 3
      },
      "file_extension": ".py",
      "mimetype": "text/x-python",
      "name": "python",
      "nbconvert_exporter": "python",
      "pygments_lexer": "ipython3",
      "version": "3.13.0"
    }
  },
  "nbformat": 4,
  "nbformat_minor": 2
}
