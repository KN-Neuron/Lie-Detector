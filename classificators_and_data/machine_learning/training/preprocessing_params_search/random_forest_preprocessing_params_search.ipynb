{
 "cells": [
  {
   "cell_type": "markdown",
   "metadata": {},
   "source": [
    "# Searching for the best preprocessing params\n",
    "\n",
    "Since we found out Random Forest Classifier get's pretty high results on feature set we wanted to check how it perfoms on different parameter configuration.\n"
   ]
  },
  {
   "cell_type": "code",
   "execution_count": 3,
   "metadata": {},
   "outputs": [],
   "source": [
    "%load_ext autoreload\n",
    "%autoreload 2"
   ]
  },
  {
   "cell_type": "code",
   "execution_count": null,
   "metadata": {},
   "outputs": [],
   "source": [
    "import sys\n",
    "import os\n",
    "\n",
    "project_root = os.path.abspath(os.path.join(os.getcwd(), '..', '..', '..'))\n",
    "sys.path.append(project_root)\n",
    "\n",
    "print(project_root)\n",
    "\n",
    "import machine_learning.ml_lib as ML\n",
    "from data_extractor.data_extractor import load_df, extract_X_y_from_df \n",
    "from sklearn.ensemble import RandomForestClassifier\n",
    "import numpy as np\n",
    "import pandas as pd\n",
    "from sklearn.metrics import accuracy_score\n",
    "from sklearn.discriminant_analysis import StandardScaler\n",
    "from sklearn.metrics import confusion_matrix, f1_score\n",
    "from sklearn.model_selection import train_test_split"
   ]
  },
  {
   "cell_type": "code",
   "execution_count": 5,
   "metadata": {},
   "outputs": [],
   "source": [
    "from param_configs import preprocessing_param_combinations"
   ]
  },
  {
   "cell_type": "code",
   "execution_count": 6,
   "metadata": {},
   "outputs": [],
   "source": [
    "class RandomForestModel:\n",
    "    def __init__(self, preprocess_params=None) -> None:\n",
    "        super().__init__()\n",
    "        self.best_model_param_grid = {\n",
    "            'n_estimators': 300,\n",
    "            'max_depth': None,\n",
    "            'min_samples_split': 5,\n",
    "            'max_features': \"sqrt\",\n",
    "            'bootstrap': False,\n",
    "            'class_weight': 'balanced'\n",
    "        }\n",
    "        self.model = RandomForestClassifier(**self.best_model_param_grid)\n",
    "        self.scaler = StandardScaler()\n",
    "        self.preprocess_params = preprocess_params or {}\n",
    "\n",
    "    def train(self, X_train, y_train) -> None:\n",
    "        \"\"\"\n",
    "        Train the model using the provided data.\n",
    "        \"\"\"\n",
    "        features = self._preprocess_data(X_train)\n",
    "        self.scaler.fit(features)\n",
    "        preprocessed_X_train = self.scaler.transform(features)\n",
    "        self.model.fit(X=preprocessed_X_train, y=y_train)\n",
    "\n",
    "    def predict(self, X_test) -> np.ndarray:\n",
    "        \"\"\"\n",
    "        Predict the labels for the provided data.\n",
    "        \"\"\"\n",
    "        features = self._preprocess_data(X_test)\n",
    "        preprocessed_X_test = self.scaler.transform(features)\n",
    "        if self.model is None:\n",
    "            raise ValueError(\"Model has not been trained yet. Please call the 'train' method before making predictions.\")\n",
    "        return self.model.predict(preprocessed_X_test)\n",
    "    \n",
    "    def _preprocess_data(self, X: np.ndarray) -> np.ndarray:\n",
    "        \"\"\"\n",
    "        Preprocess the data.\n",
    "        \"\"\"\n",
    "        return ML.preprocess_eeg_data(X)\n",
    "    \n",
    "    def split_random42(self, df: pd.DataFrame) -> tuple[pd.DataFrame, pd.DataFrame]:\n",
    "        df_train, df_test = train_test_split(df, test_size = 0.2, random_state = 42, stratify = df['label'])\n",
    "        return df_train, df_test\n",
    "    \n",
    "    def _calculate_metrics(self, y_true: np.ndarray, y_pred: np.ndarray) -> dict[any, any]:\n",
    "        return {\n",
    "            \"accuracy\": accuracy_score(y_true, y_pred),\n",
    "            \"f1_score\": f1_score(y_true, y_pred),\n",
    "            \"confusion_matrix\": confusion_matrix(y_true, y_pred)\n",
    "        }"
   ]
  },
  {
   "cell_type": "code",
   "execution_count": null,
   "metadata": {},
   "outputs": [],
   "source": [
    "from datetime import datetime\n",
    "from tqdm import tqdm\n",
    "import json\n",
    "import os\n",
    "\n",
    "results = []\n",
    "\n",
    "# Ensure the directory for saving results exists\n",
    "results_dir = 'results'\n",
    "\n",
    "os.makedirs(results_dir, exist_ok=True)\n",
    "\n",
    "for idx, param_combination in enumerate(tqdm(preprocessing_param_combinations, desc=\"Preprocessing Configurations\")):\n",
    "    try:\n",
    "        df = load_df(\"../../data/\", **param_combination)\n",
    "        \n",
    "        df = df.query(\"desired_answer == answer and data_type in ['REAL', 'FAKE']\")\n",
    "        df['label'] = df.apply(lambda x: 1 if x.block_no in [1, 3] else 0, axis=1)\n",
    "        \n",
    "        X, y = extract_X_y_from_df(df)\n",
    "        \n",
    "        if len(y) < 2:\n",
    "            continue\n",
    "        \n",
    "        X_train, X_test, y_train, y_test = train_test_split(\n",
    "            X, y, test_size=0.2, random_state=42, stratify=y)\n",
    "        \n",
    "        model = RandomForestModel(preprocess_params=param_combination)\n",
    "        model.train(X_train, y_train)\n",
    "        \n",
    "        y_pred = model.predict(X_test)\n",
    "        \n",
    "        accuracy = accuracy_score(y_test, y_pred)\n",
    "        f1 = f1_score(y_test, y_pred)\n",
    "        \n",
    "        result = {\n",
    "            'params': param_combination,\n",
    "            'split': 42,\n",
    "            'accuracy': accuracy,\n",
    "            'f1_score': f1,\n",
    "            'timestamp': f'RandomForestModel{datetime.now().strftime(\"%Y-%m-%d %H:%M:%S\")}'\n",
    "        }\n",
    "        \n",
    "        filename = os.path.join(results_dir, f'random_forest_config_{idx}.json')\n",
    "        with open(filename, 'w') as f:\n",
    "            json.dump(result, f, indent=4)\n",
    "        \n",
    "        \n",
    "        results.append(result)\n",
    "        \n",
    "        \n",
    "    except Exception as e:\n",
    "        print(f\"An error occurred with parameters {param_combination}: {e}\")\n",
    "        continue\n",
    "    \n",
    "best_result = max(results, key=lambda x: x['accuracy'])\n",
    "\n",
    "print(\"Best preprocessing parameters:\")\n",
    "print(best_result['params'])\n",
    "print(\"Accuracy:\", best_result['accuracy'])\n",
    "print(\"F1 Score:\", best_result['f1_score'])\n"
   ]
  },
  {
   "cell_type": "code",
   "execution_count": null,
   "metadata": {},
   "outputs": [],
   "source": [
    "results"
   ]
  },
  {
   "cell_type": "code",
   "execution_count": null,
   "metadata": {},
   "outputs": [],
   "source": [
    "# Find the result with the highest accuracy\n",
    "best_result = max(results, key=lambda x: x['accuracy'])\n",
    "\n",
    "print(\"Best preprocessing parameters:\")\n",
    "print(best_result['params'])\n",
    "print(\"Accuracy:\", best_result['accuracy'])\n",
    "print(\"F1 Score:\", best_result['f1_score'])"
   ]
  },
  {
   "cell_type": "code",
   "execution_count": null,
   "metadata": {},
   "outputs": [],
   "source": [
    "# best params I found\n",
    "param_combination = {'lfreq': 0.3, 'hfreq': 70, 'notch_filter': [60], 'baseline': (None, None), 'tmin': 0, 'tmax': 0.6}\n",
    "\n",
    "df = load_df(\"../../../data/\", **param_combination)\n",
    "\n",
    "df = df.query(\"desired_answer == answer and data_type in ['REAL', 'FAKE']\")\n",
    "df['label'] = df.apply(lambda x: 1 if x.block_no in [1, 3] else 0, axis=1)\n",
    "\n",
    "X, y = extract_X_y_from_df(df)\n"
   ]
  },
  {
   "cell_type": "code",
   "execution_count": null,
   "metadata": {},
   "outputs": [],
   "source": [
    "print(df.head())"
   ]
  }
 ],
 "metadata": {
  "kernelspec": {
   "display_name": "myenv",
   "language": "python",
   "name": "python3"
  },
  "language_info": {
   "codemirror_mode": {
    "name": "ipython",
    "version": 3
   },
   "file_extension": ".py",
   "mimetype": "text/x-python",
   "name": "python",
   "nbconvert_exporter": "python",
   "pygments_lexer": "ipython3",
   "version": "3.13.0"
  }
 },
 "nbformat": 4,
 "nbformat_minor": 2
}
