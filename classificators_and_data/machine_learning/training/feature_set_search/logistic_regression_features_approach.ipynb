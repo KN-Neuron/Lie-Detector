{
  "cells": [
    {
      "cell_type": "code",
      "execution_count": 2,
      "metadata": {},
      "outputs": [],
      "source": [
        "%load_ext autoreload\n",
        "%autoreload 2"
      ]
    },
    {
      "cell_type": "code",
      "execution_count": null,
      "metadata": {},
      "outputs": [],
      "source": [
        "import sys\n",
        "import os\n",
        "\n",
        "project_root = os.path.abspath(os.path.join(os.getcwd(), '..', '..', '..'))\n",
        "sys.path.append(project_root)\n",
        "\n",
        "print(project_root)\n",
        "\n",
        "import machine_learning.ml_lib as ML\n",
        "from data_extractor.data_extractor import load_df, extract_X_y_from_df "
      ]
    },
    {
      "cell_type": "code",
      "execution_count": null,
      "metadata": {},
      "outputs": [],
      "source": [
        "df = load_df(\"../../../data/\")\n",
        "# Filter the data and add the column 'label' depends what you need\n",
        "df = df.query(\"desired_answer == answer and data_type in ['REAL', 'FAKE']\")\n",
        "df['label'] = df.apply(lambda x: 1 if x.block_no in [1,3] else 0, axis = 1)\n",
        "df.head()"
      ]
    },
    {
      "cell_type": "code",
      "execution_count": null,
      "metadata": {},
      "outputs": [],
      "source": [
        "X,y = extract_X_y_from_df(df)"
      ]
    },
    {
      "cell_type": "code",
      "execution_count": 14,
      "metadata": {},
      "outputs": [],
      "source": [
        "from datetime import datetime\n",
        "\n",
        "\n",
        "param_grid = [\n",
        "    {\n",
        "        'classifier__penalty': ['l2'],\n",
        "        'classifier__solver': ['lbfgs', 'sag'],\n",
        "        'classifier__C': [0.01, 0.1, 1.0, 10.0],\n",
        "        'classifier__fit_intercept': [True, False],\n",
        "    },\n",
        "    {\n",
        "        'classifier__penalty': ['l1'],\n",
        "        'classifier__solver': ['liblinear'],\n",
        "        'classifier__C': [0.01, 0.1, 1.0, 10.0],\n",
        "        'classifier__fit_intercept': [True, False],\n",
        "    },\n",
        "    {\n",
        "        'classifier__penalty': ['elasticnet'],\n",
        "        'classifier__solver': ['saga'],\n",
        "        'classifier__C': [0.01, 0.1, 1.0],\n",
        "        'classifier__l1_ratio': [0.5],\n",
        "        'classifier__fit_intercept': [True],\n",
        "    },\n",
        "    {\n",
        "        'classifier__penalty': ['none'],\n",
        "        'classifier__solver': ['lbfgs', 'sag'],\n",
        "        'classifier__fit_intercept': [True, False],\n",
        "    }\n",
        "]\n",
        "\n",
        "\n",
        "result_folder = f\"../results/logistic_regression_{datetime.now().strftime('%Y-%m-%d_%H:%M:%S')}/\""
      ]
    },
    {
      "cell_type": "code",
      "execution_count": null,
      "metadata": {},
      "outputs": [],
      "source": [
        "# Invoke the function\n",
        "best_model, best_params, test_score = ML.grid_search_logistic_regression_eeg(\n",
        "    X,\n",
        "    y,\n",
        "    param_grid[0],\n",
        "    test_size=0.2,\n",
        "    cv=5,\n",
        "    scoring='accuracy',\n",
        "    random_state=42\n",
        ")"
      ]
    },
    {
      "cell_type": "code",
      "execution_count": null,
      "metadata": {},
      "outputs": [],
      "source": [
        "X.shape, y.shape"
      ]
    },
    {
      "cell_type": "code",
      "execution_count": null,
      "metadata": {},
      "outputs": [],
      "source": [
        "from sklearn.linear_model import Ridge\n",
        "\n",
        "param_grid_2 = {\n",
        "    'regressor__alpha': [0.1, 1.0, 10.0, 100.0],  # Regularization strength\n",
        "    'regressor__fit_intercept': [True, False],\n",
        "    'regressor__solver': ['auto', 'svd', 'cholesky', 'lsqr', 'sparse_cg']  # Different solvers for optimization\n",
        "}\n"
      ]
    },
    {
      "cell_type": "code",
      "execution_count": null,
      "metadata": {},
      "outputs": [],
      "source": [
        "from sklearn.linear_model import LinearRegression\n",
        "\n",
        "best_model_2, best_params_2, test_score_2 = ML.grid_search_linear_regression_eeg(\n",
        "    X, y, param_grid_2, test_size=0.2, cv=5, scoring='neg_mean_squared_error', \n",
        "    result_folder=result_folder,\n",
        ")\n"
      ]
    }
  ],
  "metadata": {
    "kernelspec": {
      "display_name": "Python 3",
      "language": "python",
      "name": "python3"
    },
    "language_info": {
      "codemirror_mode": {
        "name": "ipython",
        "version": 3
      },
      "file_extension": ".py",
      "mimetype": "text/x-python",
      "name": "python",
      "nbconvert_exporter": "python",
      "pygments_lexer": "ipython3",
      "version": "3.13.0"
    }
  },
  "nbformat": 4,
  "nbformat_minor": 2
}
