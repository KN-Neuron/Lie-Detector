{
 "cells": [
  {
   "cell_type": "code",
   "execution_count": 1,
   "metadata": {},
   "outputs": [],
   "source": [
    "from data_extractor import load_df, extract_X_y_from_df"
   ]
  },
  {
   "cell_type": "code",
   "execution_count": 2,
   "metadata": {},
   "outputs": [],
   "source": [
    "# Load df with the data\n",
    "# Check this function for more parameters\n",
    "df = load_df(\"../data/\")"
   ]
  },
  {
   "cell_type": "code",
   "execution_count": 3,
   "metadata": {},
   "outputs": [
    {
     "data": {
      "text/html": [
       "<div>\n",
       "<style scoped>\n",
       "    .dataframe tbody tr th:only-of-type {\n",
       "        vertical-align: middle;\n",
       "    }\n",
       "\n",
       "    .dataframe tbody tr th {\n",
       "        vertical-align: top;\n",
       "    }\n",
       "\n",
       "    .dataframe thead th {\n",
       "        text-align: right;\n",
       "    }\n",
       "</style>\n",
       "<table border=\"1\" class=\"dataframe\">\n",
       "  <thead>\n",
       "    <tr style=\"text-align: right;\">\n",
       "      <th></th>\n",
       "      <th>subject</th>\n",
       "      <th>block_no</th>\n",
       "      <th>duration</th>\n",
       "      <th>field</th>\n",
       "      <th>data_type</th>\n",
       "      <th>answer</th>\n",
       "      <th>eeg</th>\n",
       "      <th>desired_answer</th>\n",
       "    </tr>\n",
       "  </thead>\n",
       "  <tbody>\n",
       "    <tr>\n",
       "      <th>0</th>\n",
       "      <td>02F6BC66</td>\n",
       "      <td>1</td>\n",
       "      <td>0.832</td>\n",
       "      <td>NAME</td>\n",
       "      <td>REAL</td>\n",
       "      <td>YES</td>\n",
       "      <td>&lt;Epochs |  1 events (good &amp; bad), 0 – 1 s, bas...</td>\n",
       "      <td>YES</td>\n",
       "    </tr>\n",
       "    <tr>\n",
       "      <th>1</th>\n",
       "      <td>02F6BC66</td>\n",
       "      <td>1</td>\n",
       "      <td>1.004</td>\n",
       "      <td>BIRTH_DATE</td>\n",
       "      <td>CELEBRITY</td>\n",
       "      <td>YES</td>\n",
       "      <td>&lt;Epochs |  1 events (good &amp; bad), 0 – 1 s, bas...</td>\n",
       "      <td>YES</td>\n",
       "    </tr>\n",
       "    <tr>\n",
       "      <th>2</th>\n",
       "      <td>02F6BC66</td>\n",
       "      <td>1</td>\n",
       "      <td>0.676</td>\n",
       "      <td>NAME</td>\n",
       "      <td>RANDO</td>\n",
       "      <td>NO</td>\n",
       "      <td>&lt;Epochs |  1 events (good &amp; bad), 0 – 1 s, bas...</td>\n",
       "      <td>NO</td>\n",
       "    </tr>\n",
       "    <tr>\n",
       "      <th>3</th>\n",
       "      <td>02F6BC66</td>\n",
       "      <td>1</td>\n",
       "      <td>0.980</td>\n",
       "      <td>HOMETOWN</td>\n",
       "      <td>RANDO</td>\n",
       "      <td>NO</td>\n",
       "      <td>&lt;Epochs |  1 events (good &amp; bad), 0 – 1 s, bas...</td>\n",
       "      <td>NO</td>\n",
       "    </tr>\n",
       "    <tr>\n",
       "      <th>4</th>\n",
       "      <td>02F6BC66</td>\n",
       "      <td>1</td>\n",
       "      <td>0.700</td>\n",
       "      <td>NAME</td>\n",
       "      <td>RANDO</td>\n",
       "      <td>NO</td>\n",
       "      <td>&lt;Epochs |  1 events (good &amp; bad), 0 – 1 s, bas...</td>\n",
       "      <td>NO</td>\n",
       "    </tr>\n",
       "  </tbody>\n",
       "</table>\n",
       "</div>"
      ],
      "text/plain": [
       "    subject  block_no  duration       field  data_type answer  \\\n",
       "0  02F6BC66         1     0.832        NAME       REAL    YES   \n",
       "1  02F6BC66         1     1.004  BIRTH_DATE  CELEBRITY    YES   \n",
       "2  02F6BC66         1     0.676        NAME      RANDO     NO   \n",
       "3  02F6BC66         1     0.980    HOMETOWN      RANDO     NO   \n",
       "4  02F6BC66         1     0.700        NAME      RANDO     NO   \n",
       "\n",
       "                                                 eeg desired_answer  \n",
       "0  <Epochs |  1 events (good & bad), 0 – 1 s, bas...            YES  \n",
       "1  <Epochs |  1 events (good & bad), 0 – 1 s, bas...            YES  \n",
       "2  <Epochs |  1 events (good & bad), 0 – 1 s, bas...             NO  \n",
       "3  <Epochs |  1 events (good & bad), 0 – 1 s, bas...             NO  \n",
       "4  <Epochs |  1 events (good & bad), 0 – 1 s, bas...             NO  "
      ]
     },
     "execution_count": 3,
     "metadata": {},
     "output_type": "execute_result"
    }
   ],
   "source": [
    "df.head()"
   ]
  },
  {
   "cell_type": "code",
   "execution_count": 4,
   "metadata": {},
   "outputs": [
    {
     "data": {
      "text/html": [
       "<div>\n",
       "<style scoped>\n",
       "    .dataframe tbody tr th:only-of-type {\n",
       "        vertical-align: middle;\n",
       "    }\n",
       "\n",
       "    .dataframe tbody tr th {\n",
       "        vertical-align: top;\n",
       "    }\n",
       "\n",
       "    .dataframe thead th {\n",
       "        text-align: right;\n",
       "    }\n",
       "</style>\n",
       "<table border=\"1\" class=\"dataframe\">\n",
       "  <thead>\n",
       "    <tr style=\"text-align: right;\">\n",
       "      <th></th>\n",
       "      <th>subject</th>\n",
       "      <th>block_no</th>\n",
       "      <th>duration</th>\n",
       "      <th>field</th>\n",
       "      <th>data_type</th>\n",
       "      <th>answer</th>\n",
       "      <th>eeg</th>\n",
       "      <th>desired_answer</th>\n",
       "      <th>label</th>\n",
       "    </tr>\n",
       "  </thead>\n",
       "  <tbody>\n",
       "    <tr>\n",
       "      <th>0</th>\n",
       "      <td>02F6BC66</td>\n",
       "      <td>1</td>\n",
       "      <td>0.832</td>\n",
       "      <td>NAME</td>\n",
       "      <td>REAL</td>\n",
       "      <td>YES</td>\n",
       "      <td>&lt;Epochs |  1 events (good &amp; bad), 0 – 1 s, bas...</td>\n",
       "      <td>YES</td>\n",
       "      <td>1</td>\n",
       "    </tr>\n",
       "    <tr>\n",
       "      <th>6</th>\n",
       "      <td>02F6BC66</td>\n",
       "      <td>1</td>\n",
       "      <td>0.744</td>\n",
       "      <td>BIRTH_DATE</td>\n",
       "      <td>REAL</td>\n",
       "      <td>YES</td>\n",
       "      <td>&lt;Epochs |  1 events (good &amp; bad), 0 – 1 s, bas...</td>\n",
       "      <td>YES</td>\n",
       "      <td>1</td>\n",
       "    </tr>\n",
       "    <tr>\n",
       "      <th>9</th>\n",
       "      <td>02F6BC66</td>\n",
       "      <td>1</td>\n",
       "      <td>0.736</td>\n",
       "      <td>HOMETOWN</td>\n",
       "      <td>REAL</td>\n",
       "      <td>YES</td>\n",
       "      <td>&lt;Epochs |  1 events (good &amp; bad), 0 – 1 s, bas...</td>\n",
       "      <td>YES</td>\n",
       "      <td>1</td>\n",
       "    </tr>\n",
       "    <tr>\n",
       "      <th>11</th>\n",
       "      <td>02F6BC66</td>\n",
       "      <td>1</td>\n",
       "      <td>0.608</td>\n",
       "      <td>HOMETOWN</td>\n",
       "      <td>REAL</td>\n",
       "      <td>YES</td>\n",
       "      <td>&lt;Epochs |  1 events (good &amp; bad), 0 – 1 s, bas...</td>\n",
       "      <td>YES</td>\n",
       "      <td>1</td>\n",
       "    </tr>\n",
       "    <tr>\n",
       "      <th>14</th>\n",
       "      <td>02F6BC66</td>\n",
       "      <td>1</td>\n",
       "      <td>0.628</td>\n",
       "      <td>BIRTH_DATE</td>\n",
       "      <td>REAL</td>\n",
       "      <td>YES</td>\n",
       "      <td>&lt;Epochs |  1 events (good &amp; bad), 0 – 1 s, bas...</td>\n",
       "      <td>YES</td>\n",
       "      <td>1</td>\n",
       "    </tr>\n",
       "  </tbody>\n",
       "</table>\n",
       "</div>"
      ],
      "text/plain": [
       "     subject  block_no  duration       field data_type answer  \\\n",
       "0   02F6BC66         1     0.832        NAME      REAL    YES   \n",
       "6   02F6BC66         1     0.744  BIRTH_DATE      REAL    YES   \n",
       "9   02F6BC66         1     0.736    HOMETOWN      REAL    YES   \n",
       "11  02F6BC66         1     0.608    HOMETOWN      REAL    YES   \n",
       "14  02F6BC66         1     0.628  BIRTH_DATE      REAL    YES   \n",
       "\n",
       "                                                  eeg desired_answer  label  \n",
       "0   <Epochs |  1 events (good & bad), 0 – 1 s, bas...            YES      1  \n",
       "6   <Epochs |  1 events (good & bad), 0 – 1 s, bas...            YES      1  \n",
       "9   <Epochs |  1 events (good & bad), 0 – 1 s, bas...            YES      1  \n",
       "11  <Epochs |  1 events (good & bad), 0 – 1 s, bas...            YES      1  \n",
       "14  <Epochs |  1 events (good & bad), 0 – 1 s, bas...            YES      1  "
      ]
     },
     "execution_count": 4,
     "metadata": {},
     "output_type": "execute_result"
    }
   ],
   "source": [
    "# Filter the data and add the column 'label' depends what you need\n",
    "df = df.query(\"desired_answer == answer and data_type in ['REAL', 'FAKE']\")\n",
    "df['label'] = df.apply(lambda x: 1 if x.block_no in [1,3] else 0, axis = 1)\n",
    "df.head()"
   ]
  },
  {
   "cell_type": "code",
   "execution_count": 8,
   "metadata": {},
   "outputs": [],
   "source": [
    "# Extract data as X and y np arrays\n",
    "X,y = extract_X_y_from_df(df)"
   ]
  },
  {
   "cell_type": "code",
   "execution_count": 9,
   "metadata": {},
   "outputs": [
    {
     "data": {
      "text/plain": [
       "(2656, 16, 251)"
      ]
     },
     "execution_count": 9,
     "metadata": {},
     "output_type": "execute_result"
    }
   ],
   "source": [
    "X.shape"
   ]
  },
  {
   "cell_type": "code",
   "execution_count": 10,
   "metadata": {},
   "outputs": [
    {
     "data": {
      "text/plain": [
       "(2656,)"
      ]
     },
     "execution_count": 10,
     "metadata": {},
     "output_type": "execute_result"
    }
   ],
   "source": [
    "y.shape"
   ]
  }
 ],
 "metadata": {
  "kernelspec": {
   "display_name": "Python 3",
   "language": "python",
   "name": "python3"
  },
  "language_info": {
   "codemirror_mode": {
    "name": "ipython",
    "version": 3
   },
   "file_extension": ".py",
   "mimetype": "text/x-python",
   "name": "python",
   "nbconvert_exporter": "python",
   "pygments_lexer": "ipython3",
   "version": "3.9.17"
  }
 },
 "nbformat": 4,
 "nbformat_minor": 2
}
